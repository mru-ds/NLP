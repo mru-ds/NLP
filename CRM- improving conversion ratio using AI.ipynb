{
 "cells": [
  {
   "cell_type": "code",
   "execution_count": 1,
   "id": "6bc5fc82",
   "metadata": {},
   "outputs": [],
   "source": [
    "import pandas as pd\n",
    "import numpy as np\n",
    "import matplotlib.pyplot as plt\n",
    "import seaborn as sns\n",
    "import string #to handle punctuations and special characters\n",
    "from nltk.corpus import stopwords #To handle stopwords dictionary\n",
    "\n"
   ]
  },
  {
   "cell_type": "code",
   "execution_count": 2,
   "id": "c0de4458",
   "metadata": {},
   "outputs": [],
   "source": [
    "import warnings\n",
    "warnings.filterwarnings('ignore')"
   ]
  },
  {
   "cell_type": "code",
   "execution_count": 66,
   "id": "a77ed0e9",
   "metadata": {},
   "outputs": [],
   "source": [
    "# data load: 1000 leads.xlsx\n",
    "#cd C:\\Users\\sysname\\Desktop\\Datascience\\April\n",
    "\n",
    "lead=pd.read_excel('1000 leads.xlsx')"
   ]
  },
  {
   "cell_type": "code",
   "execution_count": 67,
   "id": "946f4535",
   "metadata": {},
   "outputs": [
    {
     "data": {
      "text/plain": [
       "(1001, 4)"
      ]
     },
     "execution_count": 67,
     "metadata": {},
     "output_type": "execute_result"
    }
   ],
   "source": [
    "lead.shape"
   ]
  },
  {
   "cell_type": "code",
   "execution_count": 68,
   "id": "31153d19",
   "metadata": {},
   "outputs": [
    {
     "data": {
      "text/plain": [
       "0"
      ]
     },
     "execution_count": 68,
     "metadata": {},
     "output_type": "execute_result"
    }
   ],
   "source": [
    "#checking for duplicate values\n",
    "lead.duplicated().sum()"
   ]
  },
  {
   "cell_type": "code",
   "execution_count": 69,
   "id": "ec7dfab5",
   "metadata": {},
   "outputs": [
    {
     "data": {
      "text/html": [
       "<div>\n",
       "<style scoped>\n",
       "    .dataframe tbody tr th:only-of-type {\n",
       "        vertical-align: middle;\n",
       "    }\n",
       "\n",
       "    .dataframe tbody tr th {\n",
       "        vertical-align: top;\n",
       "    }\n",
       "\n",
       "    .dataframe thead th {\n",
       "        text-align: right;\n",
       "    }\n",
       "</style>\n",
       "<table border=\"1\" class=\"dataframe\">\n",
       "  <thead>\n",
       "    <tr style=\"text-align: right;\">\n",
       "      <th></th>\n",
       "      <th>Lead Name</th>\n",
       "      <th>Location</th>\n",
       "      <th>Status</th>\n",
       "      <th>Status information</th>\n",
       "    </tr>\n",
       "  </thead>\n",
       "  <tbody>\n",
       "    <tr>\n",
       "      <th>0</th>\n",
       "      <td>Raja</td>\n",
       "      <td>hyderabad</td>\n",
       "      <td>Not Converted</td>\n",
       "      <td>14/8/prema: share me details, available in evn...</td>\n",
       "    </tr>\n",
       "    <tr>\n",
       "      <th>1</th>\n",
       "      <td>Anirudh Reddy</td>\n",
       "      <td>pune</td>\n",
       "      <td>Not Converted</td>\n",
       "      <td>14/8/prema: cal me tmrw, shared details to ema...</td>\n",
       "    </tr>\n",
       "    <tr>\n",
       "      <th>2</th>\n",
       "      <td>Sapna Dewani</td>\n",
       "      <td>bangalore</td>\n",
       "      <td>Converted</td>\n",
       "      <td>16|AuG|moHan:rnr</td>\n",
       "    </tr>\n",
       "    <tr>\n",
       "      <th>3</th>\n",
       "      <td>suresh</td>\n",
       "      <td>mumbai</td>\n",
       "      <td>Not Converted</td>\n",
       "      <td>14/8/17(Surendra):i want only Server 16|AuG|mo...</td>\n",
       "    </tr>\n",
       "    <tr>\n",
       "      <th>4</th>\n",
       "      <td>Akshay Shinde</td>\n",
       "      <td>hyderabad</td>\n",
       "      <td>Not Converted</td>\n",
       "      <td>14/8/prema:rnr 16/8/prema: gave info, he said ...</td>\n",
       "    </tr>\n",
       "    <tr>\n",
       "      <th>5</th>\n",
       "      <td>Karthik</td>\n",
       "      <td>mumbai</td>\n",
       "      <td>Not Converted</td>\n",
       "      <td>12/8/17(Surendra):i will check demo(attended d...</td>\n",
       "    </tr>\n",
       "    <tr>\n",
       "      <th>6</th>\n",
       "      <td>atul dubey</td>\n",
       "      <td>delhi</td>\n",
       "      <td>Not Converted</td>\n",
       "      <td>14/8/17(Surendra):asking code</td>\n",
       "    </tr>\n",
       "    <tr>\n",
       "      <th>7</th>\n",
       "      <td>praneeth</td>\n",
       "      <td>pune</td>\n",
       "      <td>Not Converted</td>\n",
       "      <td>11|aUg|moHan:mail shred for ML Tensorflow corp...</td>\n",
       "    </tr>\n",
       "    <tr>\n",
       "      <th>8</th>\n",
       "      <td>Smita Shinde</td>\n",
       "      <td>bangalore</td>\n",
       "      <td>Not Converted</td>\n",
       "      <td>11|AuG|moHan:askng code</td>\n",
       "    </tr>\n",
       "    <tr>\n",
       "      <th>9</th>\n",
       "      <td>shiba</td>\n",
       "      <td>bangalore</td>\n",
       "      <td>Not Converted</td>\n",
       "      <td>NaN</td>\n",
       "    </tr>\n",
       "    <tr>\n",
       "      <th>10</th>\n",
       "      <td>ashish</td>\n",
       "      <td>mumbai</td>\n",
       "      <td>Not Converted</td>\n",
       "      <td>11/8/prema: RNR 11/8/prema: share me tableau r...</td>\n",
       "    </tr>\n",
       "    <tr>\n",
       "      <th>11</th>\n",
       "      <td>gaurav</td>\n",
       "      <td>bangalore</td>\n",
       "      <td>Not Converted</td>\n",
       "      <td>11/8/prema: call me @ 5pm 11/8/prema: om in a ...</td>\n",
       "    </tr>\n",
       "  </tbody>\n",
       "</table>\n",
       "</div>"
      ],
      "text/plain": [
       "        Lead Name   Location        Status   \\\n",
       "0            Raja  hyderabad  Not Converted   \n",
       "1   Anirudh Reddy       pune  Not Converted   \n",
       "2    Sapna Dewani  bangalore     Converted    \n",
       "3          suresh     mumbai  Not Converted   \n",
       "4   Akshay Shinde  hyderabad  Not Converted   \n",
       "5         Karthik     mumbai  Not Converted   \n",
       "6      atul dubey      delhi  Not Converted   \n",
       "7        praneeth       pune  Not Converted   \n",
       "8    Smita Shinde  bangalore  Not Converted   \n",
       "9           shiba  bangalore  Not Converted   \n",
       "10         ashish     mumbai  Not Converted   \n",
       "11         gaurav  bangalore  Not Converted   \n",
       "\n",
       "                                   Status information  \n",
       "0   14/8/prema: share me details, available in evn...  \n",
       "1   14/8/prema: cal me tmrw, shared details to ema...  \n",
       "2                                    16|AuG|moHan:rnr  \n",
       "3   14/8/17(Surendra):i want only Server 16|AuG|mo...  \n",
       "4   14/8/prema:rnr 16/8/prema: gave info, he said ...  \n",
       "5   12/8/17(Surendra):i will check demo(attended d...  \n",
       "6                       14/8/17(Surendra):asking code  \n",
       "7   11|aUg|moHan:mail shred for ML Tensorflow corp...  \n",
       "8                             11|AuG|moHan:askng code  \n",
       "9                                                 NaN  \n",
       "10  11/8/prema: RNR 11/8/prema: share me tableau r...  \n",
       "11  11/8/prema: call me @ 5pm 11/8/prema: om in a ...  "
      ]
     },
     "execution_count": 69,
     "metadata": {},
     "output_type": "execute_result"
    }
   ],
   "source": [
    "lead.head(12)"
   ]
  },
  {
   "cell_type": "code",
   "execution_count": 70,
   "id": "0abbaf22",
   "metadata": {
    "scrolled": true
   },
   "outputs": [
    {
     "data": {
      "text/plain": [
       "<AxesSubplot:xlabel='count', ylabel='Location'>"
      ]
     },
     "execution_count": 70,
     "metadata": {},
     "output_type": "execute_result"
    },
    {
     "data": {
      "image/png": "[encoded data removed]",
      "text/plain": [
       "<Figure size 720x864 with 1 Axes>"
      ]
     },
     "metadata": {
      "needs_background": "light"
     },
     "output_type": "display_data"
    }
   ],
   "source": [
    "plt.figure(figsize=(10,12))\n",
    "sns.countplot(data=lead, y='Location')"
   ]
  },
  {
   "cell_type": "code",
   "execution_count": 71,
   "id": "e9b9b060",
   "metadata": {},
   "outputs": [
    {
     "data": {
      "text/plain": [
       "array(['hyderabad', 'pune', 'bangalore', 'mumbai', 'delhi', 'australia',\n",
       "       'nagpur', 'madurai', 'mysore', 'chennai', nan, 'kerala', 'hubli',\n",
       "       'guntur', 'Bangalore', 'Hyderabad', 'jalandhar', 'tiruttani',\n",
       "       'USA', 'Faridabad', 'Online', 'gurgoan', 'kochi', 'noida',\n",
       "       'ahmedabad', 'khammam', 'Chennai', 'vishakapatnam', 'solapur',\n",
       "       'Mumbai', 'nasik', 'Thane', 'UAE', 'Aurangabad', 'rayagada',\n",
       "       'bilgi', 'gurgaon', 'Rajamundry', 'kadapa', 'aurangabad',\n",
       "       'kolkatta', 'vijayawada', 'Vijayawada', 'Pune', 'India', 'india',\n",
       "       'meerut', 'jaipur', 'coimbatore', 'gujarat', 'ghazibad', 'ongole',\n",
       "       'Nepal', 'Gurgaon', 'bihar', 'thane'], dtype=object)"
      ]
     },
     "execution_count": 71,
     "metadata": {},
     "output_type": "execute_result"
    }
   ],
   "source": [
    "lead['Location'].unique()"
   ]
  },
  {
   "cell_type": "code",
   "execution_count": 72,
   "id": "fc9ba778",
   "metadata": {},
   "outputs": [],
   "source": [
    "#NAN replace with highest occurred location \n",
    "# All the locations converted lower case to avoid double entries \n",
    "lead['Location']=lead['Location'].str.lower()\n",
    "lead['Location']=lead['Location'].fillna('bangalore')\n"
   ]
  },
  {
   "cell_type": "code",
   "execution_count": 10,
   "id": "b0120adc",
   "metadata": {},
   "outputs": [
    {
     "data": {
      "text/plain": [
       "array(['Not Converted', 'Converted ', 'NOt Converted', nan, 'Conveted'],\n",
       "      dtype=object)"
      ]
     },
     "execution_count": 10,
     "metadata": {},
     "output_type": "execute_result"
    }
   ],
   "source": [
    "lead['Status '].unique()"
   ]
  },
  {
   "cell_type": "code",
   "execution_count": 73,
   "id": "f23d4e83",
   "metadata": {},
   "outputs": [],
   "source": [
    "#Status coulmn NAN and misentry\n",
    "lead['Status ']=lead['Status '].fillna('Not Converted')\n",
    "lead['Status ']=lead['Status '].replace('NOt Converted','Not Converted')\n",
    "lead['Status ']=lead['Status '].replace('Conveted','Converted')\n",
    "lead['Status ']=lead['Status '].str.strip()"
   ]
  },
  {
   "cell_type": "code",
   "execution_count": 74,
   "id": "de4e53fd",
   "metadata": {},
   "outputs": [
    {
     "data": {
      "text/plain": [
       "Not Converted    870\n",
       "Converted        131\n",
       "Name: Status , dtype: int64"
      ]
     },
     "execution_count": 74,
     "metadata": {},
     "output_type": "execute_result"
    }
   ],
   "source": [
    "lead['Status '].value_counts()"
   ]
  },
  {
   "cell_type": "code",
   "execution_count": 75,
   "id": "3229bc04",
   "metadata": {
    "scrolled": false
   },
   "outputs": [
    {
     "data": {
      "text/plain": [
       "Lead Name              0\n",
       "Location               0\n",
       "Status                 0\n",
       "Status information    24\n",
       "dtype: int64"
      ]
     },
     "execution_count": 75,
     "metadata": {},
     "output_type": "execute_result"
    }
   ],
   "source": [
    "lead.isnull().sum()"
   ]
  },
  {
   "cell_type": "code",
   "execution_count": 76,
   "id": "ef780e20",
   "metadata": {},
   "outputs": [],
   "source": [
    "# drop NAN from Lead (output param)\n",
    "lead=lead.dropna()"
   ]
  },
  {
   "cell_type": "code",
   "execution_count": 77,
   "id": "d6b21e94",
   "metadata": {},
   "outputs": [],
   "source": [
    "stopwords_cus = [i for i in stopwords.words('english')\n",
    "                  if i not in [\"not\",\"no\", \"nor\",\"don't\", \"aren't\",\n",
    " \"couldn't\",\n",
    " \"didn't\",\n",
    " \"doesn't\",\n",
    " \"hadn't\",\n",
    " \"hasn't\",\n",
    " \"haven't\",\n",
    " \"isn't\",\n",
    " \"mightn't\",\n",
    " \"mustn't\",\n",
    " \"needn't\",\n",
    " \"shouldn't\",\n",
    " \"wasn't\",\n",
    " \"weren't\",\n",
    " \"won't\",\n",
    " \"wouldn't\" ]]\n",
    "#print(stopwords_cus)"
   ]
  },
  {
   "cell_type": "markdown",
   "id": "135fba58",
   "metadata": {},
   "source": [
    "def message_text_process(mess):\n",
    "    no_punctuation = [char for char in mess if char not in string.punctuation]\n",
    "    no_punctuation = ''.join(no_punctuation)\n",
    "    return [word for word in no_punctuation.split() if word.lower() \n",
    "            not in stopwords_cus]"
   ]
  },
  {
   "cell_type": "code",
   "execution_count": 78,
   "id": "8f6111fe",
   "metadata": {},
   "outputs": [
    {
     "name": "stdout",
     "output_type": "stream",
     "text": [
      "!\"#$%&'()*+,-./:;<=>?@[\\]^_`{|}~\n"
     ]
    }
   ],
   "source": [
    "print(string.punctuation)"
   ]
  },
  {
   "cell_type": "code",
   "execution_count": 79,
   "id": "909867de",
   "metadata": {},
   "outputs": [],
   "source": [
    "lead[\"num_char\"] = lead[\"Status information\"].apply(lambda x: len(x))"
   ]
  },
  {
   "cell_type": "code",
   "execution_count": 80,
   "id": "0cee9799",
   "metadata": {
    "scrolled": false
   },
   "outputs": [
    {
     "data": {
      "text/plain": [
       "<seaborn.axisgrid.FacetGrid at 0x226a41174c0>"
      ]
     },
     "execution_count": 80,
     "metadata": {},
     "output_type": "execute_result"
    },
    {
     "data": {
      "text/plain": [
       "<Figure size 1080x540 with 0 Axes>"
      ]
     },
     "metadata": {},
     "output_type": "display_data"
    },
    {
     "data": {
      "image/png": "[encoded data removed]",
      "text/plain": [
       "<Figure size 540.25x360 with 1 Axes>"
      ]
     },
     "metadata": {
      "needs_background": "light"
     },
     "output_type": "display_data"
    }
   ],
   "source": [
    "plt.figure(figsize=(12,6), dpi=90)\n",
    "sns.displot(data=lead, x=\"num_char\", hue=\"Status \", aspect=1.2)\n"
   ]
  },
  {
   "cell_type": "code",
   "execution_count": 81,
   "id": "49b104d0",
   "metadata": {},
   "outputs": [],
   "source": [
    "import nltk"
   ]
  },
  {
   "cell_type": "code",
   "execution_count": 82,
   "id": "28d6d73f",
   "metadata": {},
   "outputs": [],
   "source": [
    "#nltk.download(\"punkt\")"
   ]
  },
  {
   "cell_type": "code",
   "execution_count": 83,
   "id": "5a1d4f3d",
   "metadata": {},
   "outputs": [],
   "source": [
    "lead[\"num_words\"] = lead[\"Status information\"].apply(lambda x : len([i for i in nltk.word_tokenize(x) if i not in string.punctuation]))"
   ]
  },
  {
   "cell_type": "code",
   "execution_count": 84,
   "id": "2e58021a",
   "metadata": {},
   "outputs": [],
   "source": [
    "import re"
   ]
  },
  {
   "cell_type": "code",
   "execution_count": 85,
   "id": "ece87f91",
   "metadata": {
    "scrolled": true
   },
   "outputs": [
    {
     "data": {
      "text/html": [
       "<div>\n",
       "<style scoped>\n",
       "    .dataframe tbody tr th:only-of-type {\n",
       "        vertical-align: middle;\n",
       "    }\n",
       "\n",
       "    .dataframe tbody tr th {\n",
       "        vertical-align: top;\n",
       "    }\n",
       "\n",
       "    .dataframe thead th {\n",
       "        text-align: right;\n",
       "    }\n",
       "</style>\n",
       "<table border=\"1\" class=\"dataframe\">\n",
       "  <thead>\n",
       "    <tr style=\"text-align: right;\">\n",
       "      <th></th>\n",
       "      <th>Lead Name</th>\n",
       "      <th>Location</th>\n",
       "      <th>Status</th>\n",
       "      <th>Status information</th>\n",
       "      <th>num_char</th>\n",
       "      <th>num_words</th>\n",
       "    </tr>\n",
       "  </thead>\n",
       "  <tbody>\n",
       "    <tr>\n",
       "      <th>0</th>\n",
       "      <td>Raja</td>\n",
       "      <td>hyderabad</td>\n",
       "      <td>Not Converted</td>\n",
       "      <td>14/8/prema: share me details, available in evn...</td>\n",
       "      <td>133</td>\n",
       "      <td>18</td>\n",
       "    </tr>\n",
       "    <tr>\n",
       "      <th>1</th>\n",
       "      <td>Anirudh Reddy</td>\n",
       "      <td>pune</td>\n",
       "      <td>Not Converted</td>\n",
       "      <td>14/8/prema: cal me tmrw, shared details to ema...</td>\n",
       "      <td>171</td>\n",
       "      <td>27</td>\n",
       "    </tr>\n",
       "    <tr>\n",
       "      <th>2</th>\n",
       "      <td>Sapna Dewani</td>\n",
       "      <td>bangalore</td>\n",
       "      <td>Converted</td>\n",
       "      <td>16|AuG|moHan:rnr</td>\n",
       "      <td>16</td>\n",
       "      <td>2</td>\n",
       "    </tr>\n",
       "    <tr>\n",
       "      <th>3</th>\n",
       "      <td>suresh</td>\n",
       "      <td>mumbai</td>\n",
       "      <td>Not Converted</td>\n",
       "      <td>14/8/17(Surendra):i want only Server 16|AuG|mo...</td>\n",
       "      <td>86</td>\n",
       "      <td>13</td>\n",
       "    </tr>\n",
       "    <tr>\n",
       "      <th>4</th>\n",
       "      <td>Akshay Shinde</td>\n",
       "      <td>hyderabad</td>\n",
       "      <td>Not Converted</td>\n",
       "      <td>14/8/prema:rnr 16/8/prema: gave info, he said ...</td>\n",
       "      <td>118</td>\n",
       "      <td>19</td>\n",
       "    </tr>\n",
       "  </tbody>\n",
       "</table>\n",
       "</div>"
      ],
      "text/plain": [
       "       Lead Name   Location        Status   \\\n",
       "0           Raja  hyderabad  Not Converted   \n",
       "1  Anirudh Reddy       pune  Not Converted   \n",
       "2   Sapna Dewani  bangalore      Converted   \n",
       "3         suresh     mumbai  Not Converted   \n",
       "4  Akshay Shinde  hyderabad  Not Converted   \n",
       "\n",
       "                                  Status information  num_char  num_words  \n",
       "0  14/8/prema: share me details, available in evn...       133         18  \n",
       "1  14/8/prema: cal me tmrw, shared details to ema...       171         27  \n",
       "2                                   16|AuG|moHan:rnr        16          2  \n",
       "3  14/8/17(Surendra):i want only Server 16|AuG|mo...        86         13  \n",
       "4  14/8/prema:rnr 16/8/prema: gave info, he said ...       118         19  "
      ]
     },
     "execution_count": 85,
     "metadata": {},
     "output_type": "execute_result"
    }
   ],
   "source": [
    "lead.head()"
   ]
  },
  {
   "cell_type": "code",
   "execution_count": 86,
   "id": "8d108d05",
   "metadata": {},
   "outputs": [],
   "source": [
    "data=lead.copy()"
   ]
  },
  {
   "cell_type": "code",
   "execution_count": 87,
   "id": "f112b64d",
   "metadata": {},
   "outputs": [
    {
     "data": {
      "text/plain": [
       "array(['Not Converted', 'Converted'], dtype=object)"
      ]
     },
     "execution_count": 87,
     "metadata": {},
     "output_type": "execute_result"
    }
   ],
   "source": [
    "data[\"Status \"].unique()"
   ]
  },
  {
   "cell_type": "code",
   "execution_count": 88,
   "id": "095cdc82",
   "metadata": {},
   "outputs": [],
   "source": [
    "# remove special character\n",
    "data.columns = data.columns.str.rstrip()"
   ]
  },
  {
   "cell_type": "code",
   "execution_count": 89,
   "id": "fa99e3a8",
   "metadata": {},
   "outputs": [
    {
     "data": {
      "text/html": [
       "<div>\n",
       "<style scoped>\n",
       "    .dataframe tbody tr th:only-of-type {\n",
       "        vertical-align: middle;\n",
       "    }\n",
       "\n",
       "    .dataframe tbody tr th {\n",
       "        vertical-align: top;\n",
       "    }\n",
       "\n",
       "    .dataframe thead th {\n",
       "        text-align: right;\n",
       "    }\n",
       "</style>\n",
       "<table border=\"1\" class=\"dataframe\">\n",
       "  <thead>\n",
       "    <tr style=\"text-align: right;\">\n",
       "      <th></th>\n",
       "      <th>Lead Name</th>\n",
       "      <th>Location</th>\n",
       "      <th>Status</th>\n",
       "      <th>Status information</th>\n",
       "      <th>num_char</th>\n",
       "      <th>num_words</th>\n",
       "    </tr>\n",
       "  </thead>\n",
       "  <tbody>\n",
       "    <tr>\n",
       "      <th>0</th>\n",
       "      <td>Raja</td>\n",
       "      <td>hyderabad</td>\n",
       "      <td>Not Converted</td>\n",
       "      <td>14/8/prema: share me details, available in evn...</td>\n",
       "      <td>133</td>\n",
       "      <td>18</td>\n",
       "    </tr>\n",
       "    <tr>\n",
       "      <th>1</th>\n",
       "      <td>Anirudh Reddy</td>\n",
       "      <td>pune</td>\n",
       "      <td>Not Converted</td>\n",
       "      <td>14/8/prema: cal me tmrw, shared details to ema...</td>\n",
       "      <td>171</td>\n",
       "      <td>27</td>\n",
       "    </tr>\n",
       "    <tr>\n",
       "      <th>2</th>\n",
       "      <td>Sapna Dewani</td>\n",
       "      <td>bangalore</td>\n",
       "      <td>Converted</td>\n",
       "      <td>16|AuG|moHan:rnr</td>\n",
       "      <td>16</td>\n",
       "      <td>2</td>\n",
       "    </tr>\n",
       "    <tr>\n",
       "      <th>3</th>\n",
       "      <td>suresh</td>\n",
       "      <td>mumbai</td>\n",
       "      <td>Not Converted</td>\n",
       "      <td>14/8/17(Surendra):i want only Server 16|AuG|mo...</td>\n",
       "      <td>86</td>\n",
       "      <td>13</td>\n",
       "    </tr>\n",
       "    <tr>\n",
       "      <th>4</th>\n",
       "      <td>Akshay Shinde</td>\n",
       "      <td>hyderabad</td>\n",
       "      <td>Not Converted</td>\n",
       "      <td>14/8/prema:rnr 16/8/prema: gave info, he said ...</td>\n",
       "      <td>118</td>\n",
       "      <td>19</td>\n",
       "    </tr>\n",
       "  </tbody>\n",
       "</table>\n",
       "</div>"
      ],
      "text/plain": [
       "       Lead Name   Location         Status  \\\n",
       "0           Raja  hyderabad  Not Converted   \n",
       "1  Anirudh Reddy       pune  Not Converted   \n",
       "2   Sapna Dewani  bangalore      Converted   \n",
       "3         suresh     mumbai  Not Converted   \n",
       "4  Akshay Shinde  hyderabad  Not Converted   \n",
       "\n",
       "                                  Status information  num_char  num_words  \n",
       "0  14/8/prema: share me details, available in evn...       133         18  \n",
       "1  14/8/prema: cal me tmrw, shared details to ema...       171         27  \n",
       "2                                   16|AuG|moHan:rnr        16          2  \n",
       "3  14/8/17(Surendra):i want only Server 16|AuG|mo...        86         13  \n",
       "4  14/8/prema:rnr 16/8/prema: gave info, he said ...       118         19  "
      ]
     },
     "execution_count": 89,
     "metadata": {},
     "output_type": "execute_result"
    }
   ],
   "source": [
    "data.head()"
   ]
  },
  {
   "cell_type": "code",
   "execution_count": 90,
   "id": "962c5f22",
   "metadata": {},
   "outputs": [
    {
     "data": {
      "text/plain": [
       "array(['Not Converted', 'Converted'], dtype=object)"
      ]
     },
     "execution_count": 90,
     "metadata": {},
     "output_type": "execute_result"
    }
   ],
   "source": [
    "data[\"Status\"].unique()"
   ]
  },
  {
   "cell_type": "code",
   "execution_count": 91,
   "id": "413cc489",
   "metadata": {},
   "outputs": [],
   "source": [
    "data[\"Status\"].replace({\"Not Converted\": 1, \"Converted\": 0}, inplace=True)"
   ]
  },
  {
   "cell_type": "code",
   "execution_count": 92,
   "id": "5daa2f2b",
   "metadata": {},
   "outputs": [],
   "source": [
    "# label encoding the locations\n",
    "from sklearn.preprocessing import LabelEncoder\n",
    "le = LabelEncoder()"
   ]
  },
  {
   "cell_type": "code",
   "execution_count": 93,
   "id": "7a2a13da",
   "metadata": {},
   "outputs": [],
   "source": [
    "data[\"Location\"] = le.fit_transform(data[\"Location\"])\n"
   ]
  },
  {
   "cell_type": "code",
   "execution_count": 94,
   "id": "7193224f",
   "metadata": {
    "scrolled": true
   },
   "outputs": [],
   "source": [
    "#nltk.download(\"wordnet\")"
   ]
  },
  {
   "cell_type": "code",
   "execution_count": 95,
   "id": "dfd7d214",
   "metadata": {
    "scrolled": true
   },
   "outputs": [],
   "source": [
    "#nltk.download(\"omw-1.4\")"
   ]
  },
  {
   "cell_type": "code",
   "execution_count": 96,
   "id": "bf38644e",
   "metadata": {},
   "outputs": [],
   "source": [
    "# lemmatization\n",
    "from nltk.stem import WordNetLemmatizer\n",
    "lamma = WordNetLemmatizer()\n",
    "def preprocess(txt):\n",
    "  x = txt.lower()\n",
    "  x = re.sub(\"\\d+[/?]\\w+[/?]\\w+:|\\d+[|]\\w+[|]\\w+:|\\d+[/]\\w+[/]\\w+[(]\\w+[)]:?\", \"\", x)\n",
    "  x = re.sub(\"int[a-z]+d$\", \"interested\", x)\n",
    "  #x =re.sub(\"not interested\", \"notinterested\", x)\n",
    "  x = re.sub(\"[\\d+-?,'.]\", \"\", x)\n",
    "  x = [i for i in nltk.word_tokenize(x) if i not in stopwords_cus and len(i)>1 and i not in string.punctuation ] \n",
    "  x = [lamma.lemmatize(i) for i in x]\n",
    "  return \" \".join(x)"
   ]
  },
  {
   "cell_type": "code",
   "execution_count": 97,
   "id": "611402db",
   "metadata": {},
   "outputs": [],
   "source": [
    "data[\"cleaned_txt\"] = data[\"Status information\"].apply(preprocess)"
   ]
  },
  {
   "cell_type": "code",
   "execution_count": 98,
   "id": "4926b9d9",
   "metadata": {},
   "outputs": [
    {
     "data": {
      "text/plain": [
       "0    share detail available evng postponed plan tra...\n",
       "1    cal tmrw shared detail email share detail emai...\n",
       "2                                                  rnr\n",
       "3                      want server cal busy reg server\n",
       "4    rnr gave info said revert hr planning next mon...\n",
       "Name: cleaned_txt, dtype: object"
      ]
     },
     "execution_count": 98,
     "metadata": {},
     "output_type": "execute_result"
    }
   ],
   "source": [
    "data[\"cleaned_txt\"].head()"
   ]
  },
  {
   "cell_type": "code",
   "execution_count": 99,
   "id": "94237344",
   "metadata": {},
   "outputs": [],
   "source": [
    "#data[\"cleaned_txt_try1\"]=data[\"cleaned_txt\"].replace({\"not interested\":\"notinterested\"},regex=True)"
   ]
  },
  {
   "cell_type": "code",
   "execution_count": 100,
   "id": "c39781d5",
   "metadata": {},
   "outputs": [
    {
     "name": "stdout",
     "output_type": "stream",
     "text": [
      "share detail available evng postponed plan training currently not interested\n",
      "1\n"
     ]
    }
   ],
   "source": [
    "print(data[\"cleaned_txt\"][0])\n",
    "print(data[\"Status\"][0])"
   ]
  },
  {
   "cell_type": "code",
   "execution_count": 101,
   "id": "b8f9c776",
   "metadata": {},
   "outputs": [
    {
     "data": {
      "text/plain": [
       "1    848\n",
       "0    129\n",
       "Name: Status, dtype: int64"
      ]
     },
     "execution_count": 101,
     "metadata": {},
     "output_type": "execute_result"
    }
   ],
   "source": [
    "data[\"Status\"].value_counts()\n"
   ]
  },
  {
   "cell_type": "code",
   "execution_count": 102,
   "id": "2d68ad46",
   "metadata": {},
   "outputs": [],
   "source": [
    "# Upsampling using resample class\n",
    "from sklearn.utils import resample\n",
    "\n",
    "#separating the class\n",
    "data_major = data[data[\"Status\"]==1]\n",
    "data_minor = data[data[\"Status\"]==0]\n",
    "\n",
    "data_minor_upsampled = resample(data_minor, \n",
    "                                 replace=True,     # sample with replacement\n",
    "                                 n_samples=602,    # to match majority class\n",
    "                                 random_state=20) # reproducible results\n",
    "\n",
    "# Combine majority class with upsampled minority class\n",
    "data_upsampled = pd.concat([data_major, data_minor_upsampled], axis=0)"
   ]
  },
  {
   "cell_type": "code",
   "execution_count": 103,
   "id": "c7e49e27",
   "metadata": {},
   "outputs": [
    {
     "data": {
      "text/plain": [
       "1    848\n",
       "0    602\n",
       "Name: Status, dtype: int64"
      ]
     },
     "execution_count": 103,
     "metadata": {},
     "output_type": "execute_result"
    }
   ],
   "source": [
    "data_upsampled[\"Status\"].value_counts()"
   ]
  },
  {
   "cell_type": "markdown",
   "id": "901a9fdc",
   "metadata": {},
   "source": [
    "Task-1:Based on customer status identify the topic whether the customer showing interest or not towards our product"
   ]
  },
  {
   "cell_type": "code",
   "execution_count": 104,
   "id": "9b4d9010",
   "metadata": {},
   "outputs": [],
   "source": [
    "# using TF-IDF\n",
    "from sklearn.feature_extraction.text import TfidfVectorizer, CountVectorizer  #DTM\n",
    "cv = CountVectorizer(max_features=500, ngram_range=(2,2)) #  for topic modeling\n"
   ]
  },
  {
   "cell_type": "code",
   "execution_count": 105,
   "id": "c34c4522",
   "metadata": {},
   "outputs": [],
   "source": [
    "vector_txt2 = cv.fit_transform(data_upsampled[\"cleaned_txt\"])"
   ]
  },
  {
   "cell_type": "code",
   "execution_count": 106,
   "id": "a10df58c",
   "metadata": {},
   "outputs": [],
   "source": [
    "# topic modeling using LDA(latent dirichlet allocation)\n",
    "from sklearn.decomposition import LatentDirichletAllocation"
   ]
  },
  {
   "cell_type": "code",
   "execution_count": 107,
   "id": "73249f30",
   "metadata": {},
   "outputs": [],
   "source": [
    "lda_model = LatentDirichletAllocation(n_components=2,learning_method='online',random_state=42,max_iter=5)\n",
    "# interested and not interested- 2 components"
   ]
  },
  {
   "cell_type": "code",
   "execution_count": 108,
   "id": "e3bb27d6",
   "metadata": {},
   "outputs": [],
   "source": [
    "lda_top = lda_model.fit_transform(vector_txt2)"
   ]
  },
  {
   "cell_type": "code",
   "execution_count": 109,
   "id": "4e2f1b6a",
   "metadata": {},
   "outputs": [
    {
     "name": "stdout",
     "output_type": "stream",
     "text": [
      "14/8/prema: share me details, available in evng 18/8/prema: postponed the plans for training currently 9/11/prema: not interested now\n",
      "1\n",
      "share detail available evng postponed plan training currently not interested\n"
     ]
    }
   ],
   "source": [
    "print(data_upsampled[\"Status information\"][0])\n",
    "print(data_upsampled[\"Status\"][0])\n",
    "print(data_upsampled[\"cleaned_txt\"][0])"
   ]
  },
  {
   "cell_type": "code",
   "execution_count": 110,
   "id": "edfc2227",
   "metadata": {},
   "outputs": [
    {
     "name": "stdout",
     "output_type": "stream",
     "text": [
      "Document 0: \n",
      "Topic  0 :  37.09423344437875 %\n",
      "Topic  1 :  62.905766555621234 %\n"
     ]
    }
   ],
   "source": [
    "print(\"Document 0: \")\n",
    "for i,topic in enumerate(lda_top[0]):\n",
    "  print(\"Topic \",i,\": \",topic*100,\"%\")"
   ]
  },
  {
   "cell_type": "code",
   "execution_count": 111,
   "id": "891d940b",
   "metadata": {},
   "outputs": [],
   "source": [
    "#Let us check what are the top words that comprise the topics. This would give us a view of what defines each of these topics\n",
    "topics = dict()\n",
    "vocab = cv.get_feature_names()\n",
    "for i, comp in enumerate(lda_model.components_):\n",
    "    vocab_comp = zip(vocab, comp)\n",
    "    sorted_words = sorted(vocab_comp, key= lambda x:x[1], reverse=True)[:9]\n",
    "    tp = \"Topic \"+str(i)+\": \"\n",
    "    #  print(tp)\n",
    "    topics[tp] = []\n",
    "    for t in sorted_words:\n",
    "        topics[tp].append(t[0])\n",
    "        #  print(t[0],end=\" \")\n",
    "        #  print(\"\\n\")"
   ]
  },
  {
   "cell_type": "code",
   "execution_count": 112,
   "id": "f04dc3d1",
   "metadata": {},
   "outputs": [
    {
     "name": "stdout",
     "output_type": "stream",
     "text": [
      "Topic 0:  : ['shared detail', 'share detail', 'not reachable', 'rnr shared', 'detail rnr', 'cal back', 'let know', 'detail shared', 'looking ct']\n",
      "Topic 1:  : ['rnr rnr', 'not interested', 'share detail', 'rnr call', 'get back', 'iam busy', 'not connected', 'rnr not', 'iam not']\n"
     ]
    }
   ],
   "source": [
    "# now we understand what topics will have what words that are being considered\n",
    "for k,v in topics.items():\n",
    "  print(f\"{k} : {v}\")"
   ]
  },
  {
   "cell_type": "code",
   "execution_count": 113,
   "id": "16f6e301",
   "metadata": {},
   "outputs": [
    {
     "name": "stdout",
     "output_type": "stream",
     "text": [
      "Document 1: \n",
      "Topic  0 :  92.44280984037997 %\n",
      "Topic  1 :  7.557190159620042 %\n"
     ]
    }
   ],
   "source": [
    "# lets check for document 1\n",
    "print(\"Document 1: \")\n",
    "for i,topic in enumerate(lda_top[1]):\n",
    "  print(\"Topic \",i,\": \",topic*100,\"%\")"
   ]
  },
  {
   "cell_type": "code",
   "execution_count": 114,
   "id": "735321a0",
   "metadata": {},
   "outputs": [
    {
     "name": "stdout",
     "output_type": "stream",
     "text": [
      "14/8/prema: cal me tmrw, shared details to email 16/8/prema: share details to email, will check n revert 18/8/prema: received your email, i'm looking for ASQ certification\n",
      "cal tmrw shared detail email share detail email check revert received email im looking asq certification\n",
      "1\n"
     ]
    }
   ],
   "source": [
    "print(data_upsampled[\"Status information\"][1])\n",
    "print(data_upsampled[\"cleaned_txt\"][1])\n",
    "print(data_upsampled[\"Status\"][1])"
   ]
  },
  {
   "cell_type": "code",
   "execution_count": 115,
   "id": "9482de25",
   "metadata": {},
   "outputs": [
    {
     "name": "stdout",
     "output_type": "stream",
     "text": [
      "Document 3: \n",
      "Topic  0 :  21.43752460615816 %\n",
      "Topic  1 :  78.56247539384185 %\n"
     ]
    }
   ],
   "source": [
    "# lets check for document 3\n",
    "print(\"Document 3: \")\n",
    "for i,topic in enumerate(lda_top[3]):\n",
    "  print(\"Topic \",i,\": \",topic*100,\"%\")"
   ]
  },
  {
   "cell_type": "code",
   "execution_count": 116,
   "id": "86db119a",
   "metadata": {},
   "outputs": [
    {
     "name": "stdout",
     "output_type": "stream",
     "text": [
      "14/8/17(Surendra):i want only Server 16|AuG|moHan:cal busy 17|AuG|moHan:reg for server\n",
      "want server cal busy reg server\n",
      "1\n"
     ]
    }
   ],
   "source": [
    "print(data_upsampled[\"Status information\"][3])\n",
    "print(data_upsampled[\"cleaned_txt\"][3])\n",
    "print(data_upsampled[\"Status\"][3])"
   ]
  },
  {
   "cell_type": "code",
   "execution_count": 117,
   "id": "259245e2",
   "metadata": {},
   "outputs": [],
   "source": [
    "# topic modeling system\n",
    "def topic_model():\n",
    "  user_mgs = input(\"Enter your mgs: \")\n",
    "  x = preprocess(user_mgs)\n",
    "  x = cv.transform([x])\n",
    "  lda_x = lda_model.transform(x)\n",
    "  tpic = []\n",
    "  tpc = lambda x : \"not interested\" if x == 1 else \"interested\"\n",
    "  for i,topic in enumerate(lda_x[0]):\n",
    "    print(\"Topic \",i,\": \",topic*100,\"%\")\n",
    "    tpc_name = tpc(i)\n",
    "    prc = topic*100\n",
    "    tpic.append([tpc_name,prc])\n",
    "  return tpic"
   ]
  },
  {
   "cell_type": "code",
   "execution_count": 118,
   "id": "75d35712",
   "metadata": {
    "scrolled": true
   },
   "outputs": [
    {
     "name": "stdout",
     "output_type": "stream",
     "text": [
      "Enter your mgs: 14/8/prema: share me details, available in evng 18/8/prema: postponed the plans for training currently 9/11/prema: not interested now\n",
      "Topic  0 :  37.09423344437876 %\n",
      "Topic  1 :  62.90576655562125 %\n"
     ]
    }
   ],
   "source": [
    "my_topic = topic_model()\n"
   ]
  },
  {
   "cell_type": "code",
   "execution_count": 119,
   "id": "4d81bfe5",
   "metadata": {},
   "outputs": [
    {
     "name": "stdout",
     "output_type": "stream",
     "text": [
      "['interested', 37.09423344437876]\n",
      "['not interested', 62.90576655562125]\n"
     ]
    }
   ],
   "source": [
    "for i in my_topic:\n",
    "  print(i )"
   ]
  },
  {
   "cell_type": "code",
   "execution_count": 121,
   "id": "9a4dae01",
   "metadata": {
    "scrolled": true
   },
   "outputs": [
    {
     "name": "stdout",
     "output_type": "stream",
     "text": [
      "Enter your mgs: share details and i am interested\n",
      "Topic  0 :  51.67859797772828 %\n",
      "Topic  1 :  48.32140202227173 %\n"
     ]
    },
    {
     "data": {
      "text/plain": [
       "[['interested', 51.67859797772828], ['not interested', 48.32140202227173]]"
      ]
     },
     "execution_count": 121,
     "metadata": {},
     "output_type": "execute_result"
    }
   ],
   "source": [
    "topic_model()"
   ]
  },
  {
   "cell_type": "markdown",
   "id": "55c41bfc",
   "metadata": {},
   "source": [
    "##Task-2:Based on location, status identify whether the lead\n",
    "going to be converted on not."
   ]
  },
  {
   "cell_type": "code",
   "execution_count": 134,
   "id": "5bf0ebff",
   "metadata": {},
   "outputs": [],
   "source": [
    "tf = TfidfVectorizer(max_features=700) # we will use tf for classification\n",
    "vector_txt = tf.fit_transform(data_upsampled[\"cleaned_txt\"])\n"
   ]
  },
  {
   "cell_type": "code",
   "execution_count": 135,
   "id": "86cbaa44",
   "metadata": {},
   "outputs": [],
   "source": [
    "add_col = data_upsampled[\"Location\"].values.reshape(-1,1)"
   ]
  },
  {
   "cell_type": "code",
   "execution_count": 136,
   "id": "f2a1b4b8",
   "metadata": {},
   "outputs": [],
   "source": [
    "x = vector_txt.toarray()\n",
    "y = data_upsampled[\"Status\"]"
   ]
  },
  {
   "cell_type": "code",
   "execution_count": 137,
   "id": "67ce9800",
   "metadata": {},
   "outputs": [
    {
     "data": {
      "text/plain": [
       "array([[0., 0., 0., ..., 0., 0., 0.],\n",
       "       [0., 0., 0., ..., 0., 0., 0.],\n",
       "       [0., 0., 0., ..., 0., 0., 0.],\n",
       "       ...,\n",
       "       [0., 0., 0., ..., 0., 0., 0.],\n",
       "       [0., 0., 0., ..., 0., 0., 0.],\n",
       "       [0., 0., 0., ..., 0., 0., 0.]])"
      ]
     },
     "execution_count": 137,
     "metadata": {},
     "output_type": "execute_result"
    }
   ],
   "source": [
    "x"
   ]
  },
  {
   "cell_type": "code",
   "execution_count": 138,
   "id": "e269cdfb",
   "metadata": {},
   "outputs": [
    {
     "name": "stdout",
     "output_type": "stream",
     "text": [
      "(1160, 700)\n",
      "(290, 700)\n",
      "(1160,)\n",
      "(290,)\n"
     ]
    }
   ],
   "source": [
    "# train, test split\n",
    "from sklearn.model_selection import train_test_split\n",
    "x_train, x_test, y_train, y_test = train_test_split(x,y, test_size=0.2, random_state=30)\n",
    "for i in [x_train, x_test, y_train, y_test]:\n",
    "  print(i.shape)"
   ]
  },
  {
   "cell_type": "code",
   "execution_count": 151,
   "id": "b5912470",
   "metadata": {},
   "outputs": [],
   "source": [
    "# evaluation metrics\n",
    "from sklearn.metrics import confusion_matrix, classification_report, accuracy_score, precision_score\n",
    "# navie bayes models\n",
    "from sklearn.naive_bayes import MultinomialNB, GaussianNB\n",
    "#how many times each word appears,this helps the model by giving it information, not just on whether the word was there,\n",
    "#but also how many times the word appeared because we know that this is a signal to help our classifier.\n",
    "#The algorithm assumes that the features are drawn from a multinomial distribution\n"
   ]
  },
  {
   "cell_type": "code",
   "execution_count": 152,
   "id": "5cb1f179",
   "metadata": {},
   "outputs": [
    {
     "data": {
      "text/plain": [
       "GaussianNB()"
      ]
     },
     "execution_count": 152,
     "metadata": {},
     "output_type": "execute_result"
    }
   ],
   "source": [
    "#Training\n",
    "model = GaussianNB()\n",
    "model.fit(x_train,y_train)"
   ]
  },
  {
   "cell_type": "code",
   "execution_count": 153,
   "id": "2cc6d4c5",
   "metadata": {},
   "outputs": [],
   "source": [
    "predicted = model.predict(x_test)\n",
    "expected = y_test"
   ]
  },
  {
   "cell_type": "code",
   "execution_count": 154,
   "id": "e03a3272",
   "metadata": {},
   "outputs": [
    {
     "name": "stdout",
     "output_type": "stream",
     "text": [
      "              precision    recall  f1-score   support\n",
      "\n",
      "           0       0.61      0.98      0.75       129\n",
      "           1       0.96      0.49      0.65       161\n",
      "\n",
      "    accuracy                           0.71       290\n",
      "   macro avg       0.78      0.73      0.70       290\n",
      "weighted avg       0.80      0.71      0.69       290\n",
      "\n",
      "[[126   3]\n",
      " [ 82  79]]\n"
     ]
    }
   ],
   "source": [
    "# Evaluation \n",
    "from sklearn import metrics\n",
    "print(metrics.classification_report(expected, predicted))\n",
    "print(metrics.confusion_matrix(expected, predicted))"
   ]
  },
  {
   "cell_type": "code",
   "execution_count": 155,
   "id": "de614b0f",
   "metadata": {},
   "outputs": [
    {
     "data": {
      "text/plain": [
       "0.7068965517241379"
      ]
     },
     "execution_count": 155,
     "metadata": {},
     "output_type": "execute_result"
    }
   ],
   "source": [
    "from sklearn.metrics import accuracy_score\n",
    "accuracy_score(expected,predicted)"
   ]
  },
  {
   "cell_type": "code",
   "execution_count": 156,
   "id": "3ddeb246",
   "metadata": {},
   "outputs": [
    {
     "name": "stdout",
     "output_type": "stream",
     "text": [
      "Accuracy Mean 0.7118531202435312 Accuracy Variance      0.05718911928942327\n"
     ]
    },
    {
     "data": {
      "text/plain": [
       "array([0.68493151, 0.69863014, 0.68493151, 0.67123288, 0.67123288,\n",
       "       0.73972603, 0.63013699, 0.76712329, 0.71232877, 0.67123288,\n",
       "       0.625     , 0.73611111, 0.81944444, 0.80555556, 0.69444444,\n",
       "       0.63888889, 0.66666667, 0.75      , 0.77777778, 0.79166667])"
      ]
     },
     "execution_count": 156,
     "metadata": {},
     "output_type": "execute_result"
    }
   ],
   "source": [
    "from sklearn.model_selection import cross_val_score\n",
    "\n",
    "accuracies = cross_val_score(estimator = model, X = x,\\\n",
    "     y = y, cv = 20)\n",
    "print(\"Accuracy Mean {} Accuracy Variance \\\n",
    "     {}\".format(accuracies.mean(),accuracies.std()))\n",
    "accuracies"
   ]
  },
  {
   "cell_type": "code",
   "execution_count": 157,
   "id": "c01c8e2a",
   "metadata": {},
   "outputs": [],
   "source": [
    "#classification system\n",
    "def Status(user):\n",
    "    input = user\n",
    "    input_p = preprocess(input)\n",
    "    input_m = tf.transform([input_p])\n",
    "    out = model.predict(input_m.toarray())\n",
    "    print(input,input_p,input_m,out)\n",
    "    if out == 1:\n",
    "        return \"Not Convertable\"\n",
    "    else:\n",
    "        return \"Convertable\"\n"
   ]
  },
  {
   "cell_type": "code",
   "execution_count": 162,
   "id": "9f953d7a",
   "metadata": {
    "scrolled": true
   },
   "outputs": [
    {
     "name": "stdout",
     "output_type": "stream",
     "text": [
      "16|AuG|moHan:rnr\n",
      "16|AuG|moHan:rnr rnr   (0, 468)\t1.0 [0]\n"
     ]
    },
    {
     "data": {
      "text/plain": [
       "'Convertable'"
      ]
     },
     "execution_count": 162,
     "metadata": {},
     "output_type": "execute_result"
    }
   ],
   "source": [
    "mgs=input()\n",
    "Status(mgs)"
   ]
  },
  {
   "cell_type": "code",
   "execution_count": 163,
   "id": "070f0155",
   "metadata": {
    "scrolled": false
   },
   "outputs": [
    {
     "name": "stdout",
     "output_type": "stream",
     "text": [
      "14/8/prema:rnr 16/8/prema: gave info, he said he will revert in 1hr 30/8/prema: planning for next month, share details\n",
      "1\n",
      "16|AuG|moHan:rnr\n",
      "0\n",
      "3/8/17(Surendra):share me link 3/8/17(Surendra):i will get back share me office details 27/11/17(Surendra):RNR 28/11/17(Surendra):wrong number call disconnected(Number correct) 1/12/17(Surendra):wrong number iam not abdul\n",
      "1\n"
     ]
    }
   ],
   "source": [
    "for i in [4,2,103]:\n",
    "  print(data.loc[i,\"Status information\"])\n",
    "  print(data.loc[i,\"Status\"])"
   ]
  },
  {
   "cell_type": "code",
   "execution_count": 164,
   "id": "0954c078",
   "metadata": {},
   "outputs": [],
   "source": [
    "import pickle\n",
    "\n",
    "#pickling the topic modeling files\n",
    "pickle.dump(cv, open(\"cv_vectorizer.pkl\", \"wb\"))\n",
    "pickle.dump(lda_model, open(\"lda_model.pkl\", \"wb\"))"
   ]
  },
  {
   "cell_type": "code",
   "execution_count": 165,
   "id": "51ab18cd",
   "metadata": {},
   "outputs": [],
   "source": [
    "pickle.dump(stopwords_cus, open(\"stopwords.pkl\",\"wb\"))\n"
   ]
  },
  {
   "cell_type": "code",
   "execution_count": 166,
   "id": "dbe4dde9",
   "metadata": {},
   "outputs": [],
   "source": [
    "# pickling for classification POC\n",
    "import pickle\n",
    "\n",
    "pickle.dump(tf, open(\"tf_vectorizer.pkl\",\"wb\"))\n",
    "pickle.dump(model, open(\"GNB.pkl\",\"wb\"))"
   ]
  },
  {
   "cell_type": "code",
   "execution_count": null,
   "id": "3ff7d7e8",
   "metadata": {},
   "outputs": [],
   "source": []
  }
 ],
 "metadata": {
  "kernelspec": {
   "display_name": "Python 3 (ipykernel)",
   "language": "python",
   "name": "python3"
  },
  "language_info": {
   "codemirror_mode": {
    "name": "ipython",
    "version": 3
   },
   "file_extension": ".py",
   "mimetype": "text/x-python",
   "name": "python",
   "nbconvert_exporter": "python",
   "pygments_lexer": "ipython3",
   "version": "3.9.7"
  }
 },
 "nbformat": 4,
 "nbformat_minor": 5
}
